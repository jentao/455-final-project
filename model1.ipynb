{
  "nbformat": 4,
  "nbformat_minor": 0,
  "metadata": {
    "colab": {
      "name": "Untitled0.ipynb",
      "provenance": [],
      "collapsed_sections": [
        "djnlZc88iAFB",
        "HGLV5ECxjh6d",
        "rO91_oOjkG0b"
      ],
      "include_colab_link": true
    },
    "kernelspec": {
      "name": "python3",
      "display_name": "Python 3"
    },
    "language_info": {
      "name": "python"
    }
  },
  "cells": [
    {
      "cell_type": "markdown",
      "metadata": {
        "id": "view-in-github",
        "colab_type": "text"
      },
      "source": [
        "<a href=\"https://colab.research.google.com/github/jentao/455-final-project/blob/main/model1.ipynb\" target=\"_parent\"><img src=\"https://colab.research.google.com/assets/colab-badge.svg\" alt=\"Open In Colab\"/></a>"
      ]
    },
    {
      "cell_type": "markdown",
      "metadata": {
        "id": "MvRhr3IqZzXO"
      },
      "source": [
        "## Load birds data:"
      ]
    },
    {
      "cell_type": "code",
      "metadata": {
        "id": "eXBSMowzKf7J",
        "colab": {
          "base_uri": "https://localhost:8080/"
        },
        "outputId": "8a1a5eaf-89f8-45d2-a955-f2719f6c2d9f"
      },
      "source": [
        "import torch\n",
        "\n",
        "from google.colab import drive\n",
        "drive.mount('/content/drive')\n",
        "!unzip -uq \"/content/drive/My Drive/birds21sp.zip\"\n",
        "device = torch.device(\"cuda:0\" if torch.cuda.is_available() else \"cpu\")"
      ],
      "execution_count": 4,
      "outputs": [
        {
          "output_type": "stream",
          "text": [
            "Drive already mounted at /content/drive; to attempt to forcibly remount, call drive.mount(\"/content/drive\", force_remount=True).\n"
          ],
          "name": "stdout"
        }
      ]
    },
    {
      "cell_type": "markdown",
      "metadata": {
        "id": "Ikx6TMzkbWNL"
      },
      "source": [
        "**Download train set and test set:**"
      ]
    },
    {
      "cell_type": "code",
      "metadata": {
        "id": "2EjbFcfmae2H"
      },
      "source": [
        "train_set = ...\n",
        "train_loader = torch.utils.data.DataLoader(trainset, batch_size=32, shuffle=True)\n",
        "test_set = ...\n",
        "test_loader = torch.utils.data.DataLoader(testset, batch_size=32, shuffle=True)"
      ],
      "execution_count": null,
      "outputs": []
    },
    {
      "cell_type": "markdown",
      "metadata": {
        "id": "djnlZc88iAFB"
      },
      "source": [
        "# Convolution Neural Network"
      ]
    },
    {
      "cell_type": "code",
      "metadata": {
        "id": "oqnFPmURfkSH"
      },
      "source": [
        "import torch.nn as nn\n",
        "import torch.nn.functional as F\n",
        "\n",
        "class Net(nn.Module):\n",
        "  def __init__(self, ........)\n",
        "    super(Net, self).__init__()\n",
        "    # TODO\n",
        "    self.fc1 = nn.Linear(.., ..)\n",
        "    self.fc2 = nn.Linear(.., ..)\n",
        "  def forward(self, x):\n",
        "    # TODO\n",
        "    x = torch.flatten(x, 1)\n",
        "    x = self.fc1(x)\n",
        "    x = F.relu(x)\n",
        "    x = self.fc2(x)\n",
        "    return x"
      ],
      "execution_count": null,
      "outputs": []
    },
    {
      "cell_type": "code",
      "metadata": {
        "id": "tvE0x5vOg2Rk"
      },
      "source": [
        "import torch.optim as optim\n",
        "\n",
        "def train(net, dataloader, epochs = 1, lr = 0.01, momentum = 0.9, decay = 0.0, verbose = 1):\n",
        "  net.to(device)\n",
        "  losses = []\n",
        "  criterion = nn.CrossEntropyLoss()\n",
        "  optimizer = optim.SGD(net.parameters(), lr=lr, momentum=momentum, weight_decay=decay)\n",
        "  for epoch in range(epochs):\n",
        "    sum_loss = 0.0\n",
        "    for i, batch in enumerate(dataloader, 0):\n",
        "      # get the inputs; data is a list of [inputs, labels]\n",
        "      inputs, labels = batch[0].to(device), batch[1].to(device)\n",
        "\n",
        "      #zero the parameter gradients\n",
        "      optimizer.zero_grad()\n",
        "\n",
        "      #forward + backward + optimize\n",
        "      outputs = net(inputs)\n",
        "      loss = criterion(outputs, labels)\n",
        "      loss.backward()\n",
        "      optimizer.step()\n",
        "\n",
        "      #print statistics\n",
        "      losses.append(loss.item())\n",
        "      sum_loss += loss.item()\n",
        "      if i % 100 == 99:\n",
        "        if verbose:\n",
        "          print('[%d, %5d] loss: %.3f' %\n",
        "                (epoch + 1, i + 1, sum_loss / 100))\n",
        "          sum_loss = 0.0\n",
        "  return losses"
      ],
      "execution_count": null,
      "outputs": []
    },
    {
      "cell_type": "markdown",
      "metadata": {
        "id": "HGLV5ECxjh6d"
      },
      "source": [
        "# Train the Network"
      ]
    },
    {
      "cell_type": "code",
      "metadata": {
        "id": "MTONzKBBjvcu"
      },
      "source": [
        "net = Net()\n",
        "losses = train(net, ...)\n",
        "plt.plot(losses)"
      ],
      "execution_count": null,
      "outputs": []
    },
    {
      "cell_type": "markdown",
      "metadata": {
        "id": "rO91_oOjkG0b"
      },
      "source": [
        "# Test the Network"
      ]
    },
    {
      "cell_type": "code",
      "metadata": {
        "id": "lPRTdUE8kJm1"
      },
      "source": [
        "def accuracy(net, dataloader):\n",
        "  correct = 0\n",
        "  total = 0\n",
        "  with torch.no_grad():\n",
        "    for batch in dataloader:\n",
        "      x, y = batch[0].to(device), batch[1].to(device)\n",
        "      outputs = net(x)\n",
        "      _, predicted = torch.max(outputs.data, 1)\n",
        "      total += y.size(0)\n",
        "      correct += (predicted == y).sum().item()\n",
        "  return correct / total\n",
        "\n",
        "print(\"Current accuracy: %f\" % accuracy(net, data['train']))"
      ],
      "execution_count": null,
      "outputs": []
    }
  ]
}